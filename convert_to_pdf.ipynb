{
 "cells": [
  {
   "cell_type": "code",
   "execution_count": 2,
   "id": "fa68ed22",
   "metadata": {},
   "outputs": [],
   "source": [
    "import os\n",
    "from PIL import Image"
   ]
  },
  {
   "cell_type": "code",
   "execution_count": 3,
   "id": "cb09162b",
   "metadata": {},
   "outputs": [],
   "source": [
    "image_dir    = './AWS-Slides-main'\n",
    "chapter_list = os.listdir(image_dir) # Load chapter names into list \n",
    "\n",
    "# Sort chapters by number (all of format: '#int chapterstring')\n",
    "chapter_list = sorted(chapter_list, key=lambda x: int(x[1:].split()[0]))"
   ]
  },
  {
   "cell_type": "markdown",
   "id": "e54f6aa3",
   "metadata": {},
   "source": [
    "## Run the below cell to generate pdf files for each chapter"
   ]
  },
  {
   "cell_type": "code",
   "execution_count": 4,
   "id": "4f45f8e4",
   "metadata": {},
   "outputs": [],
   "source": [
    "# Create individual pdfs for each chapter\n",
    "for chapter in chapter_list:\n",
    "    pdf_name   = chapter+'.pdf'\n",
    "    slide_list = os.listdir(os.path.join(image_dir, chapter)) # Create list of all slide names in chapter\n",
    "    slide_list = sorted(sorted(slide_list), key=lambda x: int(x[1:].split()[0])) # Sort based on number and alphabet\n",
    "    \n",
    "    # Create list of Image objects from slide paths\n",
    "    image_list = []\n",
    "    for slide in slide_list:\n",
    "        image_list.append(Image.open(os.path.join(image_dir,chapter,slide)))\n",
    "        \n",
    "    # Save Image objects in image_list as a single pdf\n",
    "    image_list[0].save(pdf_name, 'PDF', resolution=500, save_all=True, append_images=image_list[1:])\n",
    "    \n",
    "    # Close all image files \n",
    "    map(lambda f: f.close(), image_list)"
   ]
  },
  {
   "cell_type": "markdown",
   "id": "d4cc8427",
   "metadata": {},
   "source": [
    "## Run the below cell the generate a single pdf file with all slides"
   ]
  },
  {
   "cell_type": "code",
   "execution_count": 5,
   "id": "10be2188",
   "metadata": {},
   "outputs": [
    {
     "data": {
      "text/plain": [
       "<map at 0x7f3a9437fa30>"
      ]
     },
     "execution_count": 5,
     "metadata": {},
     "output_type": "execute_result"
    }
   ],
   "source": [
    "# Create one combined pdf with all chapters\n",
    "pdf_name   = 'combined.pdf'\n",
    "image_list = []\n",
    "for chapter in chapter_list:\n",
    "    slide_list = os.listdir(os.path.join(image_dir, chapter)) # Create list of all slide names in chapter\n",
    "    slide_list = sorted(sorted(slide_list), key=lambda x: int(x[1:].split()[0])) # Sort based on number and alphabet\n",
    "    for slide in slide_list:\n",
    "        image_list.append(Image.open(os.path.join(image_dir,chapter,slide)))\n",
    "\n",
    "# Save Image objects in image_list as a single pdf\n",
    "image_list[0].save(pdf_name, 'PDF', resolution=500, save_all=True, append_images=image_list[1:])\n",
    "\n",
    "# Close all image files\n",
    "map(lambda f: f.close(), image_list)"
   ]
  }
 ],
 "metadata": {
  "kernelspec": {
   "display_name": "Python 3 (ipykernel)",
   "language": "python",
   "name": "python3"
  },
  "language_info": {
   "codemirror_mode": {
    "name": "ipython",
    "version": 3
   },
   "file_extension": ".py",
   "mimetype": "text/x-python",
   "name": "python",
   "nbconvert_exporter": "python",
   "pygments_lexer": "ipython3",
   "version": "3.10.4"
  }
 },
 "nbformat": 4,
 "nbformat_minor": 5
}
